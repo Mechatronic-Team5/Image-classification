{
 "cells": [
  {
   "cell_type": "code",
   "execution_count": 31,
   "metadata": {},
   "outputs": [],
   "source": [
    "import os\n",
    "import torch\n",
    "import torch.nn as nn \n",
    "import torch.optim as optim\n",
    "from pathlib import Path\n",
    "import pandas as pd \n",
    "from sklearn.model_selection import train_test_split\n",
    "import shutil\n",
    "import torchvision.transforms as transforms \n",
    "from torchvision import datasets,models\n",
    "from torch.utils.data import DataLoader\n",
    "import matplotlib.pyplot as plt\n",
    "import warnings\n",
    "import copy\n",
    "import time\n",
    "from sklearn.metrics import confusion_matrix, ConfusionMatrixDisplay\n",
    "from sklearn.metrics import accuracy_score\n",
    "import wandb"
   ]
  },
  {
   "cell_type": "code",
   "execution_count": 12,
   "metadata": {},
   "outputs": [],
   "source": [
    "warnings.filterwarnings(\"ignore\")"
   ]
  },
  {
   "cell_type": "markdown",
   "metadata": {},
   "source": [
    "## Configuration of the folders "
   ]
  },
  {
   "cell_type": "code",
   "execution_count": 5,
   "metadata": {},
   "outputs": [],
   "source": [
    "Home= Path().resolve().as_posix()"
   ]
  },
  {
   "cell_type": "code",
   "execution_count": null,
   "metadata": {},
   "outputs": [],
   "source": [
    "\n",
    "os.mkdir(Home+\"/Training\")\n",
    "os.mkdir(Home+\"/Validation\")\n",
    "os.mkdir(Home+\"/Testing\")"
   ]
  },
  {
   "cell_type": "code",
   "execution_count": 132,
   "metadata": {},
   "outputs": [],
   "source": [
    "Priority_Length=len(os.listdir(Home+\"/total/Priority\"))\n",
    "Stop_Length=len(os.listdir(Home+\"/total/Stop\"))\n",
    "total_length=Priority_Length+Stop_Length"
   ]
  },
  {
   "cell_type": "code",
   "execution_count": 133,
   "metadata": {},
   "outputs": [],
   "source": [
    "df_Priority=pd.DataFrame(columns=[\"image_path\",\"label\"],index=[i for i in range(Priority_Length)])\n",
    "df_Priority[\"image_path\"]=os.listdir(Home+\"/total/Priority\")\n",
    "df_Priority[\"label\"]=\"Priority\"\n",
    "\n",
    "df_Stop=pd.DataFrame(columns=[\"image_path\",\"label\"],index=[i for i in range(Stop_Length)])\n",
    "df_Stop[\"image_path\"]=os.listdir(Home+\"/total/Stop\")\n",
    "df_Stop[\"label\"]=\"Stop\""
   ]
  },
  {
   "cell_type": "markdown",
   "metadata": {},
   "source": [
    "## Data Spiltting"
   ]
  },
  {
   "cell_type": "code",
   "execution_count": 134,
   "metadata": {},
   "outputs": [],
   "source": [
    "x_priority=df_Priority.image_path\n",
    "y_priority=df_Priority.label\n",
    "X_train_priority,X_test_priority,y_train_priority,y_test_priority=train_test_split(x_priority,y_priority,test_size=0.30,random_state=42)\n",
    "X_train_priority,X_valid_priority,y_train_priority,y_valid_priority=train_test_split(X_train_priority,y_train_priority,test_size=0.20,random_state=42)"
   ]
  },
  {
   "cell_type": "code",
   "execution_count": 136,
   "metadata": {},
   "outputs": [],
   "source": [
    "x_Stop=df_Stop.image_path\n",
    "y_Stop=df_Stop.label\n",
    "X_train_Stop,X_test_Stop,y_train_Stop,y_test_Stop=train_test_split(x_Stop,y_Stop,test_size=0.30,random_state=42)\n",
    "## change to 30 percent\n",
    "X_train_Stop,X_valid_Stop,y_train_Stop,y_valid_Stop=train_test_split(X_train_Stop,y_train_Stop,test_size=0.20,random_state=42)"
   ]
  },
  {
   "cell_type": "code",
   "execution_count": 143,
   "metadata": {},
   "outputs": [],
   "source": [
    "X_train=list(X_train_priority)+list(X_train_Stop)\n",
    "y_train=list(y_train_priority)+list(y_train_Stop)\n",
    "###############################\n",
    "X_valid=list(X_valid_priority)+list(X_valid_Stop)\n",
    "y_valid=list(y_valid_priority)+list(y_valid_Stop)\n",
    "###############################\n",
    "X_test=list(X_test_priority)+list(X_test_Stop)\n",
    "y_test=list(y_test_priority)+list(y_test_Stop)"
   ]
  },
  {
   "cell_type": "code",
   "execution_count": 145,
   "metadata": {},
   "outputs": [],
   "source": [
    "df_training=pd.DataFrame(columns=[\"image_path\",\"label\"],index=[i for i in range(len(X_train))])\n",
    "df_training[\"image_path\"]=X_train\n",
    "df_training[\"label\"]=y_train\n",
    "\n",
    "df_Validation=pd.DataFrame(columns=[\"image_path\",\"label\"],index=[i for i in range(len(X_valid))])\n",
    "df_Validation[\"image_path\"]=X_valid\n",
    "df_Validation[\"label\"]=y_valid\n",
    "\n",
    "\n",
    "df_Test=pd.DataFrame(columns=[\"image_path\",\"label\"],index=[i for i in range(len(X_test))])\n",
    "df_Test[\"image_path\"]=X_test\n",
    "df_Test[\"label\"]=y_test"
   ]
  },
  {
   "cell_type": "code",
   "execution_count": 146,
   "metadata": {},
   "outputs": [],
   "source": [
    "train_priority=df_training[df_training[\"label\"]==\"Priority\"][\"image_path\"].values.tolist()\n",
    "train_Stop=df_training[df_training[\"label\"]==\"Stop\"][\"image_path\"].values.tolist()\n",
    "\n",
    "valid_priority=df_Validation[df_Validation[\"label\"]==\"Priority\"][\"image_path\"].values.tolist()\n",
    "valid_Stop=df_Validation[df_Validation[\"label\"]==\"Stop\"][\"image_path\"].values.tolist()\n",
    "\n",
    "test_priority=df_Test[df_Test[\"label\"]==\"Priority\"][\"image_path\"].values.tolist()\n",
    "test_Stop=df_Test[df_Test[\"label\"]==\"Stop\"][\"image_path\"].values.tolist()"
   ]
  },
  {
   "cell_type": "code",
   "execution_count": 148,
   "metadata": {},
   "outputs": [],
   "source": [
    "os.mkdir(Home+\"/Training/Priority\")\n",
    "os.mkdir(Home+\"/Training/Stop\")\n",
    "\n",
    "os.mkdir(Home+\"/Validation/Priority\")\n",
    "os.mkdir(Home+\"/Validation/Stop\")\n",
    "\n",
    "os.mkdir(Home+\"/Testing/Priority\")\n",
    "os.mkdir(Home+\"/Testing/Stop\")"
   ]
  },
  {
   "cell_type": "code",
   "execution_count": 149,
   "metadata": {},
   "outputs": [],
   "source": [
    "def copy_data(source,destination,path_list):\n",
    "    for image in path_list:\n",
    "        image_src_path=source+'/'+image\n",
    "        image_dest_path=destination+'/'+image\n",
    "        shutil.copy(image_src_path,image_dest_path)"
   ]
  },
  {
   "cell_type": "code",
   "execution_count": 150,
   "metadata": {},
   "outputs": [],
   "source": [
    "# copy the priorrity training data to training priority\n",
    "source=Home+\"/total/Priority\"\n",
    "destination=Home+\"/Training/Priority\"\n",
    "copy_data(source,destination,train_priority)\n",
    "\n",
    "# copy the priority validation data to validation priority\n",
    "destination1=Home+\"/Validation/Priority\"\n",
    "copy_data(source,destination1,valid_priority)\n",
    "\n",
    "# copy the priority testing data to testing priority\n",
    "destination2=Home+\"/Testing/Priority\"\n",
    "copy_data(source,destination2,test_priority)\n",
    "\n",
    "##################################################################################### \n",
    "# copy the stop training data to training Stop\n",
    "source1=Home+\"/total/Stop\"\n",
    "destination3=Home+\"/Training/Stop\"\n",
    "copy_data(source1,destination3,train_Stop)\n",
    "\n",
    "# copy the Stop validation data to validation Stop \n",
    "destination4=Home+\"/Validation/Stop\"\n",
    "copy_data(source1,destination4,valid_Stop)\n",
    "\n",
    "# copy the stop test data to  test stop\n",
    "destination5=Home+\"/Testing/Stop\"\n",
    "copy_data(source1,destination5,test_Stop)\n"
   ]
  },
  {
   "cell_type": "code",
   "execution_count": 3,
   "metadata": {},
   "outputs": [],
   "source": [
    "def load_data(tra_path, val_path): \n",
    "    transform = transforms.Compose([transforms.Resize((32,32)),transforms.ToTensor(), transforms.Normalize((0.5, 0.5, 0.5), (0.5, 0.5, 0.5))]) \n",
    "    trainset = datasets.ImageFolder(root=tra_path, transform=transform) \n",
    "    validset = datasets.ImageFolder(root=val_path, transform=transform) #\n",
    "    return trainset, validset"
   ]
  },
  {
   "cell_type": "code",
   "execution_count": 6,
   "metadata": {},
   "outputs": [],
   "source": [
    "train_path=Home+\"/Training\"\n",
    "valid_path=Home+\"/Validation\"\n",
    "train_set,valid_set=load_data(train_path,valid_path)"
   ]
  },
  {
   "cell_type": "code",
   "execution_count": 7,
   "metadata": {},
   "outputs": [],
   "source": [
    "# Define batch size for data loader \n",
    "batch_size = 32 \n",
    "# Create data loaders for training and validation sets \n",
    "train_loader = DataLoader(train_set, batch_size=batch_size, shuffle=True) \n",
    "valid_loader = DataLoader(valid_set, batch_size=batch_size, shuffle=False)"
   ]
  },
  {
   "cell_type": "code",
   "execution_count": 8,
   "metadata": {},
   "outputs": [],
   "source": [
    "def denormalize(tensor, mean, std): \n",
    "    tensor = tensor.clone() # Clone tensor to avoid modifying the original tensor \n",
    "    for t, m, s in zip(tensor, mean, std): \n",
    "        t.mul_(s).add_(m) # Unnormalize the image \n",
    "    return tensor"
   ]
  },
  {
   "cell_type": "code",
   "execution_count": 9,
   "metadata": {},
   "outputs": [
    {
     "data": {
      "image/png": "[encoded data removed]",
      "text/plain": [
       "<Figure size 640x480 with 1 Axes>"
      ]
     },
     "metadata": {},
     "output_type": "display_data"
    }
   ],
   "source": [
    "# Get one batch of images and labels \n",
    "images, labels = next(iter(train_loader)) \n",
    "# Select one image from the batch \n",
    "image = images[0] \n",
    "label = labels[0] \n",
    "# Denormalize the image \n",
    "image = denormalize(image, mean=[0.485, 0.456, 0.406], std=[0.229, 0.224, 0.225]) \n",
    "# Convert the image tensor to a NumPy array \n",
    "image = image.numpy().transpose((1, 2, 0)) \n",
    "# Plot the image \n",
    "plt.imshow(image) \n",
    "plt.title(f'Label: {train_set.classes[label]}') \n",
    "plt.axis('off') \n",
    "plt.show()"
   ]
  },
  {
   "cell_type": "code",
   "execution_count": 10,
   "metadata": {},
   "outputs": [],
   "source": [
    "device = torch.device(\"cuda:0\" if torch.cuda.is_available() else \"cpu\")"
   ]
  },
  {
   "cell_type": "code",
   "execution_count": 11,
   "metadata": {},
   "outputs": [
    {
     "name": "stderr",
     "output_type": "stream",
     "text": [
      "c:\\Users\\Ismail\\Desktop\\Task2\\venv\\Lib\\site-packages\\torchvision\\models\\_utils.py:208: UserWarning: The parameter 'pretrained' is deprecated since 0.13 and may be removed in the future, please use 'weights' instead.\n",
      "  warnings.warn(\n",
      "c:\\Users\\Ismail\\Desktop\\Task2\\venv\\Lib\\site-packages\\torchvision\\models\\_utils.py:223: UserWarning: Arguments other than a weight enum or `None` for 'weights' are deprecated since 0.13 and may be removed in the future. The current behavior is equivalent to passing `weights=ResNet18_Weights.IMAGENET1K_V1`. You can also use `weights=ResNet18_Weights.DEFAULT` to get the most up-to-date weights.\n",
      "  warnings.warn(msg)\n"
     ]
    }
   ],
   "source": [
    "# Load pre-trained ResNet-18 model and modify it \n",
    "model = models.resnet18(pretrained=True) \n",
    "num_ftrs = model.fc.in_features \n",
    "model.fc = nn.Linear(num_ftrs,2)\n",
    "model = model.to(device) \n",
    "criterion = nn.CrossEntropyLoss() \n",
    "optimizer = optim.SGD(model.parameters(), lr=0.001, momentum=0.9)"
   ]
  },
  {
   "cell_type": "code",
   "execution_count": 12,
   "metadata": {},
   "outputs": [
    {
     "name": "stdout",
     "output_type": "stream",
     "text": [
      "conv1.weight: torch.Size([64, 3, 7, 7])\n",
      "bn1.weight: torch.Size([64])\n",
      "bn1.bias: torch.Size([64])\n",
      "layer1.0.conv1.weight: torch.Size([64, 64, 3, 3])\n",
      "layer1.0.bn1.weight: torch.Size([64])\n",
      "layer1.0.bn1.bias: torch.Size([64])\n",
      "layer1.0.conv2.weight: torch.Size([64, 64, 3, 3])\n",
      "layer1.0.bn2.weight: torch.Size([64])\n",
      "layer1.0.bn2.bias: torch.Size([64])\n",
      "layer1.1.conv1.weight: torch.Size([64, 64, 3, 3])\n",
      "layer1.1.bn1.weight: torch.Size([64])\n",
      "layer1.1.bn1.bias: torch.Size([64])\n",
      "layer1.1.conv2.weight: torch.Size([64, 64, 3, 3])\n",
      "layer1.1.bn2.weight: torch.Size([64])\n",
      "layer1.1.bn2.bias: torch.Size([64])\n",
      "layer2.0.conv1.weight: torch.Size([128, 64, 3, 3])\n",
      "layer2.0.bn1.weight: torch.Size([128])\n",
      "layer2.0.bn1.bias: torch.Size([128])\n",
      "layer2.0.conv2.weight: torch.Size([128, 128, 3, 3])\n",
      "layer2.0.bn2.weight: torch.Size([128])\n",
      "layer2.0.bn2.bias: torch.Size([128])\n",
      "layer2.0.downsample.0.weight: torch.Size([128, 64, 1, 1])\n",
      "layer2.0.downsample.1.weight: torch.Size([128])\n",
      "layer2.0.downsample.1.bias: torch.Size([128])\n",
      "layer2.1.conv1.weight: torch.Size([128, 128, 3, 3])\n",
      "layer2.1.bn1.weight: torch.Size([128])\n",
      "layer2.1.bn1.bias: torch.Size([128])\n",
      "layer2.1.conv2.weight: torch.Size([128, 128, 3, 3])\n",
      "layer2.1.bn2.weight: torch.Size([128])\n",
      "layer2.1.bn2.bias: torch.Size([128])\n",
      "layer3.0.conv1.weight: torch.Size([256, 128, 3, 3])\n",
      "layer3.0.bn1.weight: torch.Size([256])\n",
      "layer3.0.bn1.bias: torch.Size([256])\n",
      "layer3.0.conv2.weight: torch.Size([256, 256, 3, 3])\n",
      "layer3.0.bn2.weight: torch.Size([256])\n",
      "layer3.0.bn2.bias: torch.Size([256])\n",
      "layer3.0.downsample.0.weight: torch.Size([256, 128, 1, 1])\n",
      "layer3.0.downsample.1.weight: torch.Size([256])\n",
      "layer3.0.downsample.1.bias: torch.Size([256])\n",
      "layer3.1.conv1.weight: torch.Size([256, 256, 3, 3])\n",
      "layer3.1.bn1.weight: torch.Size([256])\n",
      "layer3.1.bn1.bias: torch.Size([256])\n",
      "layer3.1.conv2.weight: torch.Size([256, 256, 3, 3])\n",
      "layer3.1.bn2.weight: torch.Size([256])\n",
      "layer3.1.bn2.bias: torch.Size([256])\n",
      "layer4.0.conv1.weight: torch.Size([512, 256, 3, 3])\n",
      "layer4.0.bn1.weight: torch.Size([512])\n",
      "layer4.0.bn1.bias: torch.Size([512])\n",
      "layer4.0.conv2.weight: torch.Size([512, 512, 3, 3])\n",
      "layer4.0.bn2.weight: torch.Size([512])\n",
      "layer4.0.bn2.bias: torch.Size([512])\n",
      "layer4.0.downsample.0.weight: torch.Size([512, 256, 1, 1])\n",
      "layer4.0.downsample.1.weight: torch.Size([512])\n",
      "layer4.0.downsample.1.bias: torch.Size([512])\n",
      "layer4.1.conv1.weight: torch.Size([512, 512, 3, 3])\n",
      "layer4.1.bn1.weight: torch.Size([512])\n",
      "layer4.1.bn1.bias: torch.Size([512])\n",
      "layer4.1.conv2.weight: torch.Size([512, 512, 3, 3])\n",
      "layer4.1.bn2.weight: torch.Size([512])\n",
      "layer4.1.bn2.bias: torch.Size([512])\n",
      "fc.weight: torch.Size([2, 512])\n",
      "fc.bias: torch.Size([2])\n"
     ]
    }
   ],
   "source": [
    "for name, param in model.named_parameters(): \n",
    "    print(f\"{name}: {param.shape}\")"
   ]
  },
  {
   "cell_type": "code",
   "execution_count": 17,
   "metadata": {},
   "outputs": [],
   "source": [
    "def train_my_model(num_epoch,criterion,optimizer):\n",
    "    for epoch in range(num_epoch): \n",
    "        # Training phase \n",
    "        model.train() \n",
    "        train_loss = 0 \n",
    "        for images, labels in train_loader: \n",
    "            optimizer.zero_grad() \n",
    "            outputs = model(images) \n",
    "            loss = criterion(outputs, labels) \n",
    "            loss.backward() \n",
    "            optimizer.step() \n",
    "\n",
    "        train_loss += loss.item()\n",
    "        ## append in train loss \n",
    "        train_loss /= len(train_loader) \n",
    "\n",
    "        # Validation phase \n",
    "        model.eval() \n",
    "        val_loss = 0 \n",
    "        correct = 0 \n",
    "        with torch.no_grad(): \n",
    "            for images, labels in valid_loader: \n",
    "                outputs = model(images) \n",
    "                loss = criterion(outputs, labels) \n",
    "                # append valid loss \n",
    "                val_loss += loss.item() \n",
    "                _, predicted = torch.max(outputs, 1) \n",
    "                correct += (predicted == labels).sum().item() \n",
    "        \n",
    "        val_loss /= len(valid_loader) \n",
    "        val_accuracy = correct / len(valid_loader.dataset)\n",
    "\n",
    "        print(f\"Epoch {epoch+1}, Train Loss: {train_loss:.4f}, Val Loss: {val_loss:.4f}, Val Accuracy: {val_accuracy:.4f}\")\n",
    "    return model"
   ]
  },
  {
   "cell_type": "code",
   "execution_count": 18,
   "metadata": {},
   "outputs": [
    {
     "name": "stdout",
     "output_type": "stream",
     "text": [
      "Epoch 1, Train Loss: 0.0008, Val Loss: 0.2791, Val Accuracy: 0.9259\n",
      "Epoch 2, Train Loss: 0.0002, Val Loss: 0.3120, Val Accuracy: 0.9259\n",
      "Epoch 3, Train Loss: 0.0002, Val Loss: 0.1931, Val Accuracy: 0.9444\n",
      "Epoch 4, Train Loss: 0.0000, Val Loss: 0.1496, Val Accuracy: 0.9444\n",
      "Epoch 5, Train Loss: 0.0023, Val Loss: 0.2039, Val Accuracy: 0.9259\n",
      "Epoch 6, Train Loss: 0.0003, Val Loss: 0.1611, Val Accuracy: 0.9259\n",
      "Epoch 7, Train Loss: 0.0001, Val Loss: 0.1339, Val Accuracy: 0.9074\n",
      "Epoch 8, Train Loss: 0.0002, Val Loss: 0.1423, Val Accuracy: 0.9259\n",
      "Epoch 9, Train Loss: 0.0008, Val Loss: 0.1396, Val Accuracy: 0.9259\n",
      "Epoch 10, Train Loss: 0.0002, Val Loss: 0.1623, Val Accuracy: 0.9074\n",
      "Epoch 11, Train Loss: 0.0001, Val Loss: 0.2179, Val Accuracy: 0.9074\n",
      "Epoch 12, Train Loss: 0.0712, Val Loss: 0.2040, Val Accuracy: 0.9074\n",
      "Epoch 13, Train Loss: 0.0012, Val Loss: 0.1363, Val Accuracy: 0.9259\n",
      "Epoch 14, Train Loss: 0.0009, Val Loss: 0.1751, Val Accuracy: 0.9074\n",
      "Epoch 15, Train Loss: 0.0004, Val Loss: 0.3344, Val Accuracy: 0.8889\n",
      "Epoch 16, Train Loss: 0.1029, Val Loss: 0.3895, Val Accuracy: 0.9074\n",
      "Epoch 17, Train Loss: 0.0002, Val Loss: 0.2522, Val Accuracy: 0.8889\n",
      "Epoch 18, Train Loss: 0.0001, Val Loss: 0.1609, Val Accuracy: 0.9630\n",
      "Epoch 19, Train Loss: 0.0039, Val Loss: 0.1955, Val Accuracy: 0.9444\n",
      "Epoch 20, Train Loss: 0.0041, Val Loss: 0.1843, Val Accuracy: 0.9444\n"
     ]
    }
   ],
   "source": [
    "model=train_my_model(20,criterion,optimizer)"
   ]
  },
  {
   "cell_type": "markdown",
   "metadata": {},
   "source": [
    "## Predition on testing data"
   ]
  },
  {
   "cell_type": "code",
   "execution_count": 19,
   "metadata": {},
   "outputs": [],
   "source": [
    "tst_path=Home+\"/Testing\""
   ]
  },
  {
   "cell_type": "code",
   "execution_count": 20,
   "metadata": {},
   "outputs": [],
   "source": [
    "transform_test = transforms.Compose([transforms.Resize((32,32)),transforms.ToTensor(), transforms.Normalize((0.5, 0.5, 0.5), (0.5, 0.5, 0.5))]) \n",
    "testset = datasets.ImageFolder(root=tst_path, transform=transform_test) \n",
    "testloader = torch.utils.data.DataLoader(testset, batch_size=4, shuffle=False, num_workers=2)"
   ]
  },
  {
   "cell_type": "code",
   "execution_count": 21,
   "metadata": {},
   "outputs": [],
   "source": [
    "predictions = [] \n",
    "with torch.no_grad(): \n",
    "    for images,_  in testloader: \n",
    "        outputs = model(images) \n",
    "        _, predicted = torch.max(outputs, 1) \n",
    "        predictions.extend(predicted.tolist())"
   ]
  },
  {
   "cell_type": "code",
   "execution_count": 22,
   "metadata": {},
   "outputs": [
    {
     "name": "stdout",
     "output_type": "stream",
     "text": [
      "[0, 1, 0, 0, 0, 0, 1, 1, 0, 0, 0, 0, 0, 0, 0, 0, 0, 0, 0, 0, 0, 0, 0, 0, 0, 0, 0, 0, 0, 0, 0, 0, 0, 0, 0, 0, 0, 0, 0, 0, 0, 0, 0, 0, 0, 0, 1, 1, 1, 1, 1, 1, 1, 1, 1, 1, 1, 1, 1, 1, 1, 1, 1, 1, 1, 1, 1, 1, 1, 1, 1, 1, 1, 1, 1, 1, 1, 1, 1, 1, 1, 1, 1, 1, 1, 1, 1, 1, 1, 1, 1, 1, 1, 1, 1, 1, 1, 1, 1, 1, 1, 1, 1, 1, 1, 1, 1, 1, 1, 1, 1, 1, 1, 1]\n"
     ]
    }
   ],
   "source": [
    "print(predictions)"
   ]
  },
  {
   "cell_type": "code",
   "execution_count": 23,
   "metadata": {},
   "outputs": [],
   "source": [
    "image_paths = [] \n",
    "# Iterate over the files in the directory and append their paths to the list \n",
    "for root, dirs, files in os.walk(tst_path): \n",
    "    for file in files: \n",
    "        if file.endswith(\".jpg\"): \n",
    "            file_path = os.path.join(root, file) \n",
    "            image_paths.append(file_path)"
   ]
  },
  {
   "cell_type": "code",
   "execution_count": 24,
   "metadata": {},
   "outputs": [
    {
     "data": {
      "text/plain": [
       "(114, 114)"
      ]
     },
     "execution_count": 24,
     "metadata": {},
     "output_type": "execute_result"
    }
   ],
   "source": [
    "len(predictions),len(image_paths)"
   ]
  },
  {
   "cell_type": "code",
   "execution_count": 25,
   "metadata": {},
   "outputs": [],
   "source": [
    "results = pd.DataFrame(columns=['image', 'class','id'])"
   ]
  },
  {
   "cell_type": "code",
   "execution_count": 26,
   "metadata": {},
   "outputs": [],
   "source": [
    "results['image'] = image_paths\n",
    "results['id'] = predictions"
   ]
  },
  {
   "cell_type": "code",
   "execution_count": 27,
   "metadata": {},
   "outputs": [
    {
     "data": {
      "text/html": [
       "<div>\n",
       "<style scoped>\n",
       "    .dataframe tbody tr th:only-of-type {\n",
       "        vertical-align: middle;\n",
       "    }\n",
       "\n",
       "    .dataframe tbody tr th {\n",
       "        vertical-align: top;\n",
       "    }\n",
       "\n",
       "    .dataframe thead th {\n",
       "        text-align: right;\n",
       "    }\n",
       "</style>\n",
       "<table border=\"1\" class=\"dataframe\">\n",
       "  <thead>\n",
       "    <tr style=\"text-align: right;\">\n",
       "      <th></th>\n",
       "      <th>image</th>\n",
       "      <th>class</th>\n",
       "      <th>id</th>\n",
       "    </tr>\n",
       "  </thead>\n",
       "  <tbody>\n",
       "    <tr>\n",
       "      <th>0</th>\n",
       "      <td>C:/Users/Ismail/Desktop/Task2/Testing\\Priority...</td>\n",
       "      <td>Priority</td>\n",
       "      <td>0</td>\n",
       "    </tr>\n",
       "    <tr>\n",
       "      <th>1</th>\n",
       "      <td>C:/Users/Ismail/Desktop/Task2/Testing\\Priority...</td>\n",
       "      <td>Stop</td>\n",
       "      <td>1</td>\n",
       "    </tr>\n",
       "    <tr>\n",
       "      <th>2</th>\n",
       "      <td>C:/Users/Ismail/Desktop/Task2/Testing\\Priority...</td>\n",
       "      <td>Priority</td>\n",
       "      <td>0</td>\n",
       "    </tr>\n",
       "    <tr>\n",
       "      <th>3</th>\n",
       "      <td>C:/Users/Ismail/Desktop/Task2/Testing\\Priority...</td>\n",
       "      <td>Priority</td>\n",
       "      <td>0</td>\n",
       "    </tr>\n",
       "    <tr>\n",
       "      <th>4</th>\n",
       "      <td>C:/Users/Ismail/Desktop/Task2/Testing\\Priority...</td>\n",
       "      <td>Priority</td>\n",
       "      <td>0</td>\n",
       "    </tr>\n",
       "    <tr>\n",
       "      <th>...</th>\n",
       "      <td>...</td>\n",
       "      <td>...</td>\n",
       "      <td>...</td>\n",
       "    </tr>\n",
       "    <tr>\n",
       "      <th>109</th>\n",
       "      <td>C:/Users/Ismail/Desktop/Task2/Testing\\Stop\\f2e...</td>\n",
       "      <td>Stop</td>\n",
       "      <td>1</td>\n",
       "    </tr>\n",
       "    <tr>\n",
       "      <th>110</th>\n",
       "      <td>C:/Users/Ismail/Desktop/Task2/Testing\\Stop\\f3f...</td>\n",
       "      <td>Stop</td>\n",
       "      <td>1</td>\n",
       "    </tr>\n",
       "    <tr>\n",
       "      <th>111</th>\n",
       "      <td>C:/Users/Ismail/Desktop/Task2/Testing\\Stop\\f42...</td>\n",
       "      <td>Stop</td>\n",
       "      <td>1</td>\n",
       "    </tr>\n",
       "    <tr>\n",
       "      <th>112</th>\n",
       "      <td>C:/Users/Ismail/Desktop/Task2/Testing\\Stop\\fbb...</td>\n",
       "      <td>Stop</td>\n",
       "      <td>1</td>\n",
       "    </tr>\n",
       "    <tr>\n",
       "      <th>113</th>\n",
       "      <td>C:/Users/Ismail/Desktop/Task2/Testing\\Stop\\ff8...</td>\n",
       "      <td>Stop</td>\n",
       "      <td>1</td>\n",
       "    </tr>\n",
       "  </tbody>\n",
       "</table>\n",
       "<p>114 rows × 3 columns</p>\n",
       "</div>"
      ],
      "text/plain": [
       "                                                 image     class  id\n",
       "0    C:/Users/Ismail/Desktop/Task2/Testing\\Priority...  Priority   0\n",
       "1    C:/Users/Ismail/Desktop/Task2/Testing\\Priority...      Stop   1\n",
       "2    C:/Users/Ismail/Desktop/Task2/Testing\\Priority...  Priority   0\n",
       "3    C:/Users/Ismail/Desktop/Task2/Testing\\Priority...  Priority   0\n",
       "4    C:/Users/Ismail/Desktop/Task2/Testing\\Priority...  Priority   0\n",
       "..                                                 ...       ...  ..\n",
       "109  C:/Users/Ismail/Desktop/Task2/Testing\\Stop\\f2e...      Stop   1\n",
       "110  C:/Users/Ismail/Desktop/Task2/Testing\\Stop\\f3f...      Stop   1\n",
       "111  C:/Users/Ismail/Desktop/Task2/Testing\\Stop\\f42...      Stop   1\n",
       "112  C:/Users/Ismail/Desktop/Task2/Testing\\Stop\\fbb...      Stop   1\n",
       "113  C:/Users/Ismail/Desktop/Task2/Testing\\Stop\\ff8...      Stop   1\n",
       "\n",
       "[114 rows x 3 columns]"
      ]
     },
     "execution_count": 27,
     "metadata": {},
     "output_type": "execute_result"
    }
   ],
   "source": [
    "id2label = {0: 'Priority', 1: 'Stop'}\n",
    "results['class'] = results['id'].apply(lambda x: id2label[x])\n",
    "results"
   ]
  },
  {
   "cell_type": "code",
   "execution_count": 28,
   "metadata": {},
   "outputs": [],
   "source": [
    "data_list_Priority=[\"Priority\"]*46\n",
    "data_list_Stop=[\"Stop\"]*68\n",
    "Total_data=data_list_Priority+data_list_Stop\n",
    "results[\"Goldsatndard\"]=Total_data\n",
    "\n"
   ]
  },
  {
   "cell_type": "code",
   "execution_count": 29,
   "metadata": {},
   "outputs": [
    {
     "data": {
      "text/plain": [
       "0.9736842105263158"
      ]
     },
     "execution_count": 29,
     "metadata": {},
     "output_type": "execute_result"
    }
   ],
   "source": [
    "accuracy_score(results[\"Goldsatndard\"].values.tolist(), results[\"class\"].values.tolist())"
   ]
  },
  {
   "cell_type": "markdown",
   "metadata": {},
   "source": [
    "## Save model"
   ]
  },
  {
   "cell_type": "code",
   "execution_count": 30,
   "metadata": {},
   "outputs": [],
   "source": [
    "torch.save(model.state_dict(), 'Ismail_MSE_imageclassfication_modelV0.1.pth')"
   ]
  },
  {
   "cell_type": "code",
   "execution_count": 2,
   "metadata": {},
   "outputs": [],
   "source": [
    "os.environ[\"WANDB_NOTEBOOK_NAME\"] = \"Imageclassfication.ipynb\""
   ]
  },
  {
   "cell_type": "code",
   "execution_count": 4,
   "metadata": {},
   "outputs": [
    {
     "name": "stderr",
     "output_type": "stream",
     "text": [
      "\u001b[34m\u001b[1mwandb\u001b[0m: Logging into wandb.ai. (Learn how to deploy a W&B server locally: https://wandb.me/wandb-server)\n",
      "\u001b[34m\u001b[1mwandb\u001b[0m: You can find your API key in your browser here: https://wandb.ai/authorize\n",
      "\u001b[34m\u001b[1mwandb\u001b[0m: Paste an API key from your profile and hit enter, or press ctrl+c to quit:\u001b[34m\u001b[1mwandb\u001b[0m: Paste an API key from your profile and hit enter, or press ctrl+c to quit:\u001b[34m\u001b[1mwandb\u001b[0m: Paste an API key from your profile and hit enter, or press ctrl+c to quit:"
     ]
    }
   ],
   "source": [
    "run=wandb.init(project=\"Image_Classificationv0\")\n",
    "artifact=wandb.Artifact('model',type='model')\n",
    "artifact.add_file('Task2\\Ismail_MSE_imageclassfication_model.pth')\n",
    "run.log_artifact(artifact)\n",
    "run.finish()"
   ]
  },
  {
   "cell_type": "code",
   "execution_count": 32,
   "metadata": {},
   "outputs": [
    {
     "data": {
      "image/png": "[encoded data removed]",
      "text/plain": [
       "<Figure size 640x480 with 2 Axes>"
      ]
     },
     "metadata": {},
     "output_type": "display_data"
    }
   ],
   "source": [
    "# Compute confusion matrix\n",
    "cm = confusion_matrix(results[\"Goldsatndard\"].values.tolist(), results[\"class\"].values.tolist())\n",
    "\n",
    "# Display confusion matrix\n",
    "disp = ConfusionMatrixDisplay(confusion_matrix=cm, display_labels=results[\"Goldsatndard\"].unique().tolist())\n",
    "disp.plot(cmap=plt.cm.Blues)\n",
    "plt.show()"
   ]
  }
 ],
 "metadata": {
  "kernelspec": {
   "display_name": "venv",
   "language": "python",
   "name": "python3"
  },
  "language_info": {
   "codemirror_mode": {
    "name": "ipython",
    "version": 3
   },
   "file_extension": ".py",
   "mimetype": "text/x-python",
   "name": "python",
   "nbconvert_exporter": "python",
   "pygments_lexer": "ipython3",
   "version": "3.11.7"
  }
 },
 "nbformat": 4,
 "nbformat_minor": 2
}
